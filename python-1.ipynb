{
 "cells": [
  {
   "cell_type": "code",
   "execution_count": 2,
   "metadata": {},
   "outputs": [
    {
     "name": "stdout",
     "output_type": "stream",
     "text": [
      "Favorite season: winter\n",
      "x: 10\n",
      "y: 11\n",
      "a, b, c: 10 10 10\n",
      "Unpacked variables: 1 2 3 4 5\n"
     ]
    }
   ],
   "source": [
    "favorite_season = \"winter\"\n",
    "x = 10\n",
    "y = 11\n",
    "a = b = c = 10\n",
    "first, second, third, fourth, fifth = 1, 2, 3, 4, 5\n",
    "print(\"Favorite season:\", favorite_season)\n",
    "print(\"x:\", x)\n",
    "print(\"y:\", y)\n",
    "print(\"a, b, c:\", a, b, c)\n",
    "print(\"Unpacked variables:\", first, second, third, fourth, fifth)"
   ]
  }
 ],
 "metadata": {
  "kernelspec": {
   "display_name": "Data_Analysis",
   "language": "python",
   "name": "python3"
  },
  "language_info": {
   "codemirror_mode": {
    "name": "ipython",
    "version": 3
   },
   "file_extension": ".py",
   "mimetype": "text/x-python",
   "name": "python",
   "nbconvert_exporter": "python",
   "pygments_lexer": "ipython3",
   "version": "3.11.5"
  },
  "orig_nbformat": 4
 },
 "nbformat": 4,
 "nbformat_minor": 2
}
